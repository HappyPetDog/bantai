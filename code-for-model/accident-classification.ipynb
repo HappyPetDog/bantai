{
 "cells": [
  {
   "cell_type": "code",
   "execution_count": 1,
   "id": "404f8446",
   "metadata": {},
   "outputs": [
    {
     "name": "stdout",
     "output_type": "stream",
     "text": [
      "Collecting numpy (from -r requirements.txt (line 1))\n",
      "  Downloading numpy-2.1.3-cp312-cp312-macosx_14_0_arm64.whl.metadata (62 kB)\n",
      "Collecting pandas (from -r requirements.txt (line 2))\n",
      "  Downloading pandas-2.2.3-cp312-cp312-macosx_11_0_arm64.whl.metadata (89 kB)\n",
      "Collecting opencv-python (from -r requirements.txt (line 3))\n",
      "  Using cached opencv_python-4.10.0.84-cp37-abi3-macosx_11_0_arm64.whl.metadata (20 kB)\n",
      "Collecting tensorflow (from -r requirements.txt (line 4))\n",
      "  Using cached tensorflow-2.18.0-cp312-cp312-macosx_12_0_arm64.whl.metadata (4.0 kB)\n",
      "Collecting keras (from -r requirements.txt (line 5))\n",
      "  Downloading keras-3.7.0-py3-none-any.whl.metadata (5.8 kB)\n",
      "Collecting matplotlib (from -r requirements.txt (line 6))\n",
      "  Downloading matplotlib-3.9.2-cp312-cp312-macosx_11_0_arm64.whl.metadata (11 kB)\n",
      "Collecting pydot (from -r requirements.txt (line 7))\n",
      "  Using cached pydot-3.0.2-py3-none-any.whl.metadata (10 kB)\n",
      "Requirement already satisfied: python-dateutil>=2.8.2 in ./venv/lib/python3.12/site-packages (from pandas->-r requirements.txt (line 2)) (2.9.0.post0)\n",
      "Collecting pytz>=2020.1 (from pandas->-r requirements.txt (line 2))\n",
      "  Using cached pytz-2024.2-py2.py3-none-any.whl.metadata (22 kB)\n",
      "Collecting tzdata>=2022.7 (from pandas->-r requirements.txt (line 2))\n",
      "  Using cached tzdata-2024.2-py2.py3-none-any.whl.metadata (1.4 kB)\n",
      "Collecting absl-py>=1.0.0 (from tensorflow->-r requirements.txt (line 4))\n",
      "  Using cached absl_py-2.1.0-py3-none-any.whl.metadata (2.3 kB)\n",
      "Collecting astunparse>=1.6.0 (from tensorflow->-r requirements.txt (line 4))\n",
      "  Using cached astunparse-1.6.3-py2.py3-none-any.whl.metadata (4.4 kB)\n",
      "Collecting flatbuffers>=24.3.25 (from tensorflow->-r requirements.txt (line 4))\n",
      "  Using cached flatbuffers-24.3.25-py2.py3-none-any.whl.metadata (850 bytes)\n",
      "Collecting gast!=0.5.0,!=0.5.1,!=0.5.2,>=0.2.1 (from tensorflow->-r requirements.txt (line 4))\n",
      "  Using cached gast-0.6.0-py3-none-any.whl.metadata (1.3 kB)\n",
      "Collecting google-pasta>=0.1.1 (from tensorflow->-r requirements.txt (line 4))\n",
      "  Using cached google_pasta-0.2.0-py3-none-any.whl.metadata (814 bytes)\n",
      "Collecting libclang>=13.0.0 (from tensorflow->-r requirements.txt (line 4))\n",
      "  Using cached libclang-18.1.1-1-py2.py3-none-macosx_11_0_arm64.whl.metadata (5.2 kB)\n",
      "Collecting opt-einsum>=2.3.2 (from tensorflow->-r requirements.txt (line 4))\n",
      "  Using cached opt_einsum-3.4.0-py3-none-any.whl.metadata (6.3 kB)\n",
      "Requirement already satisfied: packaging in ./venv/lib/python3.12/site-packages (from tensorflow->-r requirements.txt (line 4)) (24.2)\n",
      "Collecting protobuf!=4.21.0,!=4.21.1,!=4.21.2,!=4.21.3,!=4.21.4,!=4.21.5,<6.0.0dev,>=3.20.3 (from tensorflow->-r requirements.txt (line 4))\n",
      "  Downloading protobuf-5.29.0-cp38-abi3-macosx_10_9_universal2.whl.metadata (592 bytes)\n",
      "Collecting requests<3,>=2.21.0 (from tensorflow->-r requirements.txt (line 4))\n",
      "  Using cached requests-2.32.3-py3-none-any.whl.metadata (4.6 kB)\n",
      "Collecting setuptools (from tensorflow->-r requirements.txt (line 4))\n",
      "  Downloading setuptools-75.6.0-py3-none-any.whl.metadata (6.7 kB)\n",
      "Requirement already satisfied: six>=1.12.0 in ./venv/lib/python3.12/site-packages (from tensorflow->-r requirements.txt (line 4)) (1.16.0)\n",
      "Collecting termcolor>=1.1.0 (from tensorflow->-r requirements.txt (line 4))\n",
      "  Using cached termcolor-2.5.0-py3-none-any.whl.metadata (6.1 kB)\n",
      "Collecting typing-extensions>=3.6.6 (from tensorflow->-r requirements.txt (line 4))\n",
      "  Using cached typing_extensions-4.12.2-py3-none-any.whl.metadata (3.0 kB)\n",
      "Collecting wrapt>=1.11.0 (from tensorflow->-r requirements.txt (line 4))\n",
      "  Downloading wrapt-1.17.0-cp312-cp312-macosx_11_0_arm64.whl.metadata (6.4 kB)\n",
      "Collecting grpcio<2.0,>=1.24.3 (from tensorflow->-r requirements.txt (line 4))\n",
      "  Downloading grpcio-1.68.0-cp312-cp312-macosx_10_9_universal2.whl.metadata (3.9 kB)\n",
      "Collecting tensorboard<2.19,>=2.18 (from tensorflow->-r requirements.txt (line 4))\n",
      "  Using cached tensorboard-2.18.0-py3-none-any.whl.metadata (1.6 kB)\n",
      "Collecting numpy (from -r requirements.txt (line 1))\n",
      "  Downloading numpy-2.0.2-cp312-cp312-macosx_14_0_arm64.whl.metadata (60 kB)\n",
      "Collecting h5py>=3.11.0 (from tensorflow->-r requirements.txt (line 4))\n",
      "  Downloading h5py-3.12.1-cp312-cp312-macosx_11_0_arm64.whl.metadata (2.5 kB)\n",
      "Collecting ml-dtypes<0.5.0,>=0.4.0 (from tensorflow->-r requirements.txt (line 4))\n",
      "  Using cached ml_dtypes-0.4.1-cp312-cp312-macosx_10_9_universal2.whl.metadata (20 kB)\n",
      "Collecting rich (from keras->-r requirements.txt (line 5))\n",
      "  Using cached rich-13.9.4-py3-none-any.whl.metadata (18 kB)\n",
      "Collecting namex (from keras->-r requirements.txt (line 5))\n",
      "  Using cached namex-0.0.8-py3-none-any.whl.metadata (246 bytes)\n",
      "Collecting optree (from keras->-r requirements.txt (line 5))\n",
      "  Downloading optree-0.13.1-cp312-cp312-macosx_11_0_arm64.whl.metadata (47 kB)\n",
      "Collecting contourpy>=1.0.1 (from matplotlib->-r requirements.txt (line 6))\n",
      "  Downloading contourpy-1.3.1-cp312-cp312-macosx_11_0_arm64.whl.metadata (5.4 kB)\n",
      "Collecting cycler>=0.10 (from matplotlib->-r requirements.txt (line 6))\n",
      "  Using cached cycler-0.12.1-py3-none-any.whl.metadata (3.8 kB)\n",
      "Collecting fonttools>=4.22.0 (from matplotlib->-r requirements.txt (line 6))\n",
      "  Downloading fonttools-4.55.0-cp312-cp312-macosx_10_13_universal2.whl.metadata (164 kB)\n",
      "Collecting kiwisolver>=1.3.1 (from matplotlib->-r requirements.txt (line 6))\n",
      "  Downloading kiwisolver-1.4.7-cp312-cp312-macosx_11_0_arm64.whl.metadata (6.3 kB)\n",
      "Collecting pillow>=8 (from matplotlib->-r requirements.txt (line 6))\n",
      "  Downloading pillow-11.0.0-cp312-cp312-macosx_11_0_arm64.whl.metadata (9.1 kB)\n",
      "Collecting pyparsing>=2.3.1 (from matplotlib->-r requirements.txt (line 6))\n",
      "  Downloading pyparsing-3.2.0-py3-none-any.whl.metadata (5.0 kB)\n",
      "Collecting wheel<1.0,>=0.23.0 (from astunparse>=1.6.0->tensorflow->-r requirements.txt (line 4))\n",
      "  Downloading wheel-0.45.1-py3-none-any.whl.metadata (2.3 kB)\n",
      "Collecting charset-normalizer<4,>=2 (from requests<3,>=2.21.0->tensorflow->-r requirements.txt (line 4))\n",
      "  Downloading charset_normalizer-3.4.0-cp312-cp312-macosx_11_0_arm64.whl.metadata (34 kB)\n",
      "Collecting idna<4,>=2.5 (from requests<3,>=2.21.0->tensorflow->-r requirements.txt (line 4))\n",
      "  Using cached idna-3.10-py3-none-any.whl.metadata (10 kB)\n",
      "Collecting urllib3<3,>=1.21.1 (from requests<3,>=2.21.0->tensorflow->-r requirements.txt (line 4))\n",
      "  Using cached urllib3-2.2.3-py3-none-any.whl.metadata (6.5 kB)\n",
      "Collecting certifi>=2017.4.17 (from requests<3,>=2.21.0->tensorflow->-r requirements.txt (line 4))\n",
      "  Using cached certifi-2024.8.30-py3-none-any.whl.metadata (2.2 kB)\n",
      "Collecting markdown>=2.6.8 (from tensorboard<2.19,>=2.18->tensorflow->-r requirements.txt (line 4))\n",
      "  Using cached Markdown-3.7-py3-none-any.whl.metadata (7.0 kB)\n",
      "Collecting tensorboard-data-server<0.8.0,>=0.7.0 (from tensorboard<2.19,>=2.18->tensorflow->-r requirements.txt (line 4))\n",
      "  Using cached tensorboard_data_server-0.7.2-py3-none-any.whl.metadata (1.1 kB)\n",
      "Collecting werkzeug>=1.0.1 (from tensorboard<2.19,>=2.18->tensorflow->-r requirements.txt (line 4))\n",
      "  Downloading werkzeug-3.1.3-py3-none-any.whl.metadata (3.7 kB)\n",
      "Collecting markdown-it-py>=2.2.0 (from rich->keras->-r requirements.txt (line 5))\n",
      "  Using cached markdown_it_py-3.0.0-py3-none-any.whl.metadata (6.9 kB)\n",
      "Requirement already satisfied: pygments<3.0.0,>=2.13.0 in ./venv/lib/python3.12/site-packages (from rich->keras->-r requirements.txt (line 5)) (2.18.0)\n",
      "Collecting mdurl~=0.1 (from markdown-it-py>=2.2.0->rich->keras->-r requirements.txt (line 5))\n",
      "  Using cached mdurl-0.1.2-py3-none-any.whl.metadata (1.6 kB)\n",
      "Collecting MarkupSafe>=2.1.1 (from werkzeug>=1.0.1->tensorboard<2.19,>=2.18->tensorflow->-r requirements.txt (line 4))\n",
      "  Downloading MarkupSafe-3.0.2-cp312-cp312-macosx_11_0_arm64.whl.metadata (4.0 kB)\n",
      "Downloading pandas-2.2.3-cp312-cp312-macosx_11_0_arm64.whl (11.4 MB)\n",
      "\u001b[2K   \u001b[90m━━━━━━━━━━━━━━━━━━━━━━━━━━━━━━━━━━━━━━━━\u001b[0m \u001b[32m11.4/11.4 MB\u001b[0m \u001b[31m5.5 MB/s\u001b[0m eta \u001b[36m0:00:00\u001b[0ma \u001b[36m0:00:01\u001b[0m\n",
      "\u001b[?25hUsing cached opencv_python-4.10.0.84-cp37-abi3-macosx_11_0_arm64.whl (54.8 MB)\n",
      "Using cached tensorflow-2.18.0-cp312-cp312-macosx_12_0_arm64.whl (239.6 MB)\n",
      "Downloading numpy-2.0.2-cp312-cp312-macosx_14_0_arm64.whl (5.0 MB)\n",
      "\u001b[2K   \u001b[90m━━━━━━━━━━━━━━━━━━━━━━━━━━━━━━━━━━━━━━━━\u001b[0m \u001b[32m5.0/5.0 MB\u001b[0m \u001b[31m3.6 MB/s\u001b[0m eta \u001b[36m0:00:00\u001b[0ma \u001b[36m0:00:01\u001b[0m\n",
      "\u001b[?25hDownloading keras-3.7.0-py3-none-any.whl (1.2 MB)\n",
      "\u001b[2K   \u001b[90m━━━━━━━━━━━━━━━━━━━━━━━━━━━━━━━━━━━━━━━━\u001b[0m \u001b[32m1.2/1.2 MB\u001b[0m \u001b[31m4.1 MB/s\u001b[0m eta \u001b[36m0:00:00\u001b[0ma \u001b[36m0:00:01\u001b[0m\n",
      "\u001b[?25hDownloading matplotlib-3.9.2-cp312-cp312-macosx_11_0_arm64.whl (7.8 MB)\n",
      "\u001b[2K   \u001b[90m━━━━━━━━━━━━━━━━━━━━━━━━━━━━━━━━━━━━━━━━\u001b[0m \u001b[32m7.8/7.8 MB\u001b[0m \u001b[31m7.4 MB/s\u001b[0m eta \u001b[36m0:00:00\u001b[0m00:01\u001b[0m00:01\u001b[0m\n",
      "\u001b[?25hUsing cached pydot-3.0.2-py3-none-any.whl (35 kB)\n",
      "Using cached absl_py-2.1.0-py3-none-any.whl (133 kB)\n",
      "Using cached astunparse-1.6.3-py2.py3-none-any.whl (12 kB)\n",
      "Downloading contourpy-1.3.1-cp312-cp312-macosx_11_0_arm64.whl (255 kB)\n",
      "Using cached cycler-0.12.1-py3-none-any.whl (8.3 kB)\n",
      "Using cached flatbuffers-24.3.25-py2.py3-none-any.whl (26 kB)\n",
      "Downloading fonttools-4.55.0-cp312-cp312-macosx_10_13_universal2.whl (2.8 MB)\n",
      "\u001b[2K   \u001b[90m━━━━━━━━━━━━━━━━━━━━━━━━━━━━━━━━━━━━━━━━\u001b[0m \u001b[32m2.8/2.8 MB\u001b[0m \u001b[31m7.3 MB/s\u001b[0m eta \u001b[36m0:00:00\u001b[0ma \u001b[36m0:00:01\u001b[0m\n",
      "\u001b[?25hUsing cached gast-0.6.0-py3-none-any.whl (21 kB)\n",
      "Using cached google_pasta-0.2.0-py3-none-any.whl (57 kB)\n",
      "Downloading grpcio-1.68.0-cp312-cp312-macosx_10_9_universal2.whl (11.1 MB)\n",
      "\u001b[2K   \u001b[90m━━━━━━━━━━━━━━━━━━━━━━━━━━━━━━━━━━━━━━━━\u001b[0m \u001b[32m11.1/11.1 MB\u001b[0m \u001b[31m8.9 MB/s\u001b[0m eta \u001b[36m0:00:00\u001b[0m00:01\u001b[0m0:01\u001b[0m\n",
      "\u001b[?25hDownloading h5py-3.12.1-cp312-cp312-macosx_11_0_arm64.whl (2.9 MB)\n",
      "\u001b[2K   \u001b[90m━━━━━━━━━━━━━━━━━━━━━━━━━━━━━━━━━━━━━━━━\u001b[0m \u001b[32m2.9/2.9 MB\u001b[0m \u001b[31m10.6 MB/s\u001b[0m eta \u001b[36m0:00:00\u001b[0ma \u001b[36m0:00:01\u001b[0m\n",
      "\u001b[?25hDownloading kiwisolver-1.4.7-cp312-cp312-macosx_11_0_arm64.whl (63 kB)\n",
      "Using cached libclang-18.1.1-1-py2.py3-none-macosx_11_0_arm64.whl (25.8 MB)\n",
      "Using cached ml_dtypes-0.4.1-cp312-cp312-macosx_10_9_universal2.whl (405 kB)\n",
      "Using cached opt_einsum-3.4.0-py3-none-any.whl (71 kB)\n",
      "Downloading pillow-11.0.0-cp312-cp312-macosx_11_0_arm64.whl (3.0 MB)\n",
      "\u001b[2K   \u001b[90m━━━━━━━━━━━━━━━━━━━━━━━━━━━━━━━━━━━━━━━━\u001b[0m \u001b[32m3.0/3.0 MB\u001b[0m \u001b[31m10.1 MB/s\u001b[0m eta \u001b[36m0:00:00\u001b[0ma \u001b[36m0:00:01\u001b[0m\n",
      "\u001b[?25hDownloading protobuf-5.29.0-cp38-abi3-macosx_10_9_universal2.whl (417 kB)\n",
      "Downloading pyparsing-3.2.0-py3-none-any.whl (106 kB)\n",
      "Using cached pytz-2024.2-py2.py3-none-any.whl (508 kB)\n",
      "Using cached requests-2.32.3-py3-none-any.whl (64 kB)\n",
      "Using cached tensorboard-2.18.0-py3-none-any.whl (5.5 MB)\n",
      "Downloading setuptools-75.6.0-py3-none-any.whl (1.2 MB)\n",
      "\u001b[2K   \u001b[90m━━━━━━━━━━━━━━━━━━━━━━━━━━━━━━━━━━━━━━━━\u001b[0m \u001b[32m1.2/1.2 MB\u001b[0m \u001b[31m7.5 MB/s\u001b[0m eta \u001b[36m0:00:00\u001b[0m\n",
      "\u001b[?25hUsing cached termcolor-2.5.0-py3-none-any.whl (7.8 kB)\n",
      "Using cached typing_extensions-4.12.2-py3-none-any.whl (37 kB)\n",
      "Using cached tzdata-2024.2-py2.py3-none-any.whl (346 kB)\n",
      "Downloading wrapt-1.17.0-cp312-cp312-macosx_11_0_arm64.whl (38 kB)\n",
      "Using cached namex-0.0.8-py3-none-any.whl (5.8 kB)\n",
      "Downloading optree-0.13.1-cp312-cp312-macosx_11_0_arm64.whl (322 kB)\n",
      "Using cached rich-13.9.4-py3-none-any.whl (242 kB)\n",
      "Using cached certifi-2024.8.30-py3-none-any.whl (167 kB)\n",
      "Downloading charset_normalizer-3.4.0-cp312-cp312-macosx_11_0_arm64.whl (119 kB)\n",
      "Using cached idna-3.10-py3-none-any.whl (70 kB)\n",
      "Using cached Markdown-3.7-py3-none-any.whl (106 kB)\n",
      "Using cached markdown_it_py-3.0.0-py3-none-any.whl (87 kB)\n",
      "Using cached tensorboard_data_server-0.7.2-py3-none-any.whl (2.4 kB)\n",
      "Using cached urllib3-2.2.3-py3-none-any.whl (126 kB)\n",
      "Downloading werkzeug-3.1.3-py3-none-any.whl (224 kB)\n",
      "Downloading wheel-0.45.1-py3-none-any.whl (72 kB)\n",
      "Downloading MarkupSafe-3.0.2-cp312-cp312-macosx_11_0_arm64.whl (12 kB)\n",
      "Using cached mdurl-0.1.2-py3-none-any.whl (10.0 kB)\n",
      "Installing collected packages: pytz, namex, libclang, flatbuffers, wrapt, wheel, urllib3, tzdata, typing-extensions, termcolor, tensorboard-data-server, setuptools, pyparsing, protobuf, pillow, opt-einsum, numpy, mdurl, MarkupSafe, markdown, kiwisolver, idna, grpcio, google-pasta, gast, fonttools, cycler, charset-normalizer, certifi, absl-py, werkzeug, requests, pydot, pandas, optree, opencv-python, ml-dtypes, markdown-it-py, h5py, contourpy, astunparse, tensorboard, rich, matplotlib, keras, tensorflow\n",
      "Successfully installed MarkupSafe-3.0.2 absl-py-2.1.0 astunparse-1.6.3 certifi-2024.8.30 charset-normalizer-3.4.0 contourpy-1.3.1 cycler-0.12.1 flatbuffers-24.3.25 fonttools-4.55.0 gast-0.6.0 google-pasta-0.2.0 grpcio-1.68.0 h5py-3.12.1 idna-3.10 keras-3.7.0 kiwisolver-1.4.7 libclang-18.1.1 markdown-3.7 markdown-it-py-3.0.0 matplotlib-3.9.2 mdurl-0.1.2 ml-dtypes-0.4.1 namex-0.0.8 numpy-2.0.2 opencv-python-4.10.0.84 opt-einsum-3.4.0 optree-0.13.1 pandas-2.2.3 pillow-11.0.0 protobuf-5.29.0 pydot-3.0.2 pyparsing-3.2.0 pytz-2024.2 requests-2.32.3 rich-13.9.4 setuptools-75.6.0 tensorboard-2.18.0 tensorboard-data-server-0.7.2 tensorflow-2.18.0 termcolor-2.5.0 typing-extensions-4.12.2 tzdata-2024.2 urllib3-2.2.3 werkzeug-3.1.3 wheel-0.45.1 wrapt-1.17.0\n",
      "Note: you may need to restart the kernel to use updated packages.\n"
     ]
    }
   ],
   "source": [
    "pip install -r requirements.txt"
   ]
  },
  {
   "cell_type": "code",
   "execution_count": 2,
   "id": "c22e4849",
   "metadata": {
    "_cell_guid": "b1076dfc-b9ad-4769-8c92-a6c4dae69d19",
    "_uuid": "8f2839f25d086af736a60e9eeb907d3b93b6e0e5",
    "execution": {
     "iopub.execute_input": "2022-06-06T11:22:04.284474Z",
     "iopub.status.busy": "2022-06-06T11:22:04.283842Z",
     "iopub.status.idle": "2022-06-06T11:22:10.971949Z",
     "shell.execute_reply": "2022-06-06T11:22:10.971144Z",
     "shell.execute_reply.started": "2022-06-06T10:46:28.537996Z"
    },
    "papermill": {
     "duration": 6.715324,
     "end_time": "2022-06-06T11:22:10.972115",
     "exception": false,
     "start_time": "2022-06-06T11:22:04.256791",
     "status": "completed"
    },
    "tags": []
   },
   "outputs": [
    {
     "ename": "ModuleNotFoundError",
     "evalue": "No module named 'distutils'",
     "output_type": "error",
     "traceback": [
      "\u001b[0;31m---------------------------------------------------------------------------\u001b[0m",
      "\u001b[0;31mModuleNotFoundError\u001b[0m                       Traceback (most recent call last)",
      "Cell \u001b[0;32mIn[2], line 4\u001b[0m\n\u001b[1;32m      2\u001b[0m \u001b[38;5;28;01mimport\u001b[39;00m \u001b[38;5;21;01mpandas\u001b[39;00m \u001b[38;5;28;01mas\u001b[39;00m \u001b[38;5;21;01mpd\u001b[39;00m \n\u001b[1;32m      3\u001b[0m \u001b[38;5;28;01mimport\u001b[39;00m \u001b[38;5;21;01mmatplotlib\u001b[39;00m\u001b[38;5;21;01m.\u001b[39;00m\u001b[38;5;21;01mpyplot\u001b[39;00m \u001b[38;5;28;01mas\u001b[39;00m \u001b[38;5;21;01mplt\u001b[39;00m\n\u001b[0;32m----> 4\u001b[0m \u001b[38;5;28;01mimport\u001b[39;00m \u001b[38;5;21;01mtensorflow\u001b[39;00m \u001b[38;5;28;01mas\u001b[39;00m \u001b[38;5;21;01mtf\u001b[39;00m\n\u001b[1;32m      5\u001b[0m \u001b[38;5;28;01mfrom\u001b[39;00m \u001b[38;5;21;01mtensorflow\u001b[39;00m\u001b[38;5;21;01m.\u001b[39;00m\u001b[38;5;21;01mkeras\u001b[39;00m \u001b[38;5;28;01mimport\u001b[39;00m layers\n\u001b[1;32m      6\u001b[0m \u001b[38;5;28;01mfrom\u001b[39;00m \u001b[38;5;21;01mtime\u001b[39;00m \u001b[38;5;28;01mimport\u001b[39;00m perf_counter \n",
      "File \u001b[0;32m~/Documents/engg150/bantai/venv/lib/python3.12/site-packages/tensorflow/__init__.py:30\u001b[0m\n\u001b[1;32m     15\u001b[0m \u001b[38;5;124;03m\"\"\"\u001b[39;00m\n\u001b[1;32m     16\u001b[0m \u001b[38;5;124;03mTop-level module of TensorFlow. By convention, we refer to this module as\u001b[39;00m\n\u001b[1;32m     17\u001b[0m \u001b[38;5;124;03m`tf` instead of `tensorflow`, following the common practice of importing\u001b[39;00m\n\u001b[0;32m   (...)\u001b[0m\n\u001b[1;32m     26\u001b[0m \u001b[38;5;124;03mthis file with a file generated from [`api_template.__init__.py`](https://www.github.com/tensorflow/tensorflow/blob/master/tensorflow/api_template.__init__.py)\u001b[39;00m\n\u001b[1;32m     27\u001b[0m \u001b[38;5;124;03m\"\"\"\u001b[39;00m\n\u001b[1;32m     28\u001b[0m \u001b[38;5;66;03m# pylint: disable=g-bad-import-order,protected-access,g-import-not-at-top\u001b[39;00m\n\u001b[0;32m---> 30\u001b[0m \u001b[38;5;28;01mimport\u001b[39;00m \u001b[38;5;21;01mdistutils\u001b[39;00m \u001b[38;5;28;01mas\u001b[39;00m \u001b[38;5;21;01m_distutils\u001b[39;00m\n\u001b[1;32m     31\u001b[0m \u001b[38;5;28;01mimport\u001b[39;00m \u001b[38;5;21;01mimportlib\u001b[39;00m\n\u001b[1;32m     32\u001b[0m \u001b[38;5;28;01mimport\u001b[39;00m \u001b[38;5;21;01minspect\u001b[39;00m \u001b[38;5;28;01mas\u001b[39;00m \u001b[38;5;21;01m_inspect\u001b[39;00m\n",
      "\u001b[0;31mModuleNotFoundError\u001b[0m: No module named 'distutils'"
     ]
    }
   ],
   "source": [
    "import numpy as np\n",
    "import pandas as pd \n",
    "import matplotlib.pyplot as plt\n",
    "import tensorflow as tf\n",
    "from tensorflow.keras import layers\n",
    "from time import perf_counter \n",
    "import os\n",
    "from keras.callbacks import ModelCheckpoint\n",
    "from keras.models import load_model\n",
    "from tensorflow.keras.utils import plot_model"
   ]
  },
  {
   "cell_type": "code",
   "execution_count": null,
   "id": "75070279",
   "metadata": {
    "execution": {
     "iopub.execute_input": "2022-06-06T11:22:11.006494Z",
     "iopub.status.busy": "2022-06-06T11:22:11.005804Z",
     "iopub.status.idle": "2022-06-06T11:22:11.008733Z",
     "shell.execute_reply": "2022-06-06T11:22:11.008225Z",
     "shell.execute_reply.started": "2022-06-06T10:46:31.286079Z"
    },
    "papermill": {
     "duration": 0.021664,
     "end_time": "2022-06-06T11:22:11.008874",
     "exception": false,
     "start_time": "2022-06-06T11:22:10.987210",
     "status": "completed"
    },
    "tags": []
   },
   "outputs": [],
   "source": [
    "## Defining batch specfications\n",
    "batch_size = 100\n",
    "img_height = 250\n",
    "img_width = 250"
   ]
  },
  {
   "cell_type": "code",
   "execution_count": null,
   "id": "eed3d696",
   "metadata": {
    "execution": {
     "iopub.execute_input": "2022-06-06T11:22:11.043329Z",
     "iopub.status.busy": "2022-06-06T11:22:11.042666Z",
     "iopub.status.idle": "2022-06-06T11:22:11.281141Z",
     "shell.execute_reply": "2022-06-06T11:22:11.281663Z",
     "shell.execute_reply.started": "2022-06-06T10:46:31.292379Z"
    },
    "papermill": {
     "duration": 0.258275,
     "end_time": "2022-06-06T11:22:11.281841",
     "exception": false,
     "start_time": "2022-06-06T11:22:11.023566",
     "status": "completed"
    },
    "tags": []
   },
   "outputs": [],
   "source": [
    "## loading training set\n",
    "training_data = tf.keras.preprocessing.image_dataset_from_directory(\n",
    "    'data/train',\n",
    "    seed=42,\n",
    "    image_size= (img_height, img_width),\n",
    "    batch_size=batch_size,\n",
    "    color_mode='rgb'\n",
    ")"
   ]
  },
  {
   "cell_type": "code",
   "execution_count": null,
   "id": "d52bb780",
   "metadata": {
    "execution": {
     "iopub.execute_input": "2022-06-06T11:22:11.318440Z",
     "iopub.status.busy": "2022-06-06T11:22:11.317741Z",
     "iopub.status.idle": "2022-06-06T11:22:11.437737Z",
     "shell.execute_reply": "2022-06-06T11:22:11.438464Z",
     "shell.execute_reply.started": "2022-06-06T10:46:31.868234Z"
    },
    "papermill": {
     "duration": 0.141084,
     "end_time": "2022-06-06T11:22:11.438707",
     "exception": false,
     "start_time": "2022-06-06T11:22:11.297623",
     "status": "completed"
    },
    "tags": []
   },
   "outputs": [],
   "source": [
    "## loading validation dataset\n",
    "validation_data =  tf.keras.preprocessing.image_dataset_from_directory(\n",
    "    'data/val',\n",
    "    seed=42,\n",
    "    image_size= (img_height, img_width),\n",
    "    batch_size=batch_size,\n",
    "    color_mode='rgb'\n",
    ")"
   ]
  },
  {
   "cell_type": "code",
   "execution_count": null,
   "id": "a5216ed0",
   "metadata": {
    "execution": {
     "iopub.execute_input": "2022-06-06T11:22:11.474428Z",
     "iopub.status.busy": "2022-06-06T11:22:11.473769Z",
     "iopub.status.idle": "2022-06-06T11:22:11.597522Z",
     "shell.execute_reply": "2022-06-06T11:22:11.596930Z",
     "shell.execute_reply.started": "2022-06-06T10:46:31.998384Z"
    },
    "papermill": {
     "duration": 0.142358,
     "end_time": "2022-06-06T11:22:11.597671",
     "exception": false,
     "start_time": "2022-06-06T11:22:11.455313",
     "status": "completed"
    },
    "tags": []
   },
   "outputs": [],
   "source": [
    "## loading testing dataset\n",
    "testing_data = tf.keras.preprocessing.image_dataset_from_directory(\n",
    "    'data/test',\n",
    "    seed=42,\n",
    "    image_size= (img_height, img_width),\n",
    "    batch_size=batch_size,\n",
    "    color_mode='rgb'\n",
    ")"
   ]
  },
  {
   "cell_type": "code",
   "execution_count": null,
   "id": "0f6cb045",
   "metadata": {
    "execution": {
     "iopub.execute_input": "2022-06-06T11:22:11.639051Z",
     "iopub.status.busy": "2022-06-06T11:22:11.638119Z",
     "iopub.status.idle": "2022-06-06T11:22:11.642875Z",
     "shell.execute_reply": "2022-06-06T11:22:11.642232Z",
     "shell.execute_reply.started": "2022-06-06T10:46:32.123352Z"
    },
    "papermill": {
     "duration": 0.029358,
     "end_time": "2022-06-06T11:22:11.643040",
     "exception": false,
     "start_time": "2022-06-06T11:22:11.613682",
     "status": "completed"
    },
    "tags": []
   },
   "outputs": [],
   "source": [
    "testing_data"
   ]
  },
  {
   "cell_type": "code",
   "execution_count": null,
   "id": "cca4892e",
   "metadata": {
    "execution": {
     "iopub.execute_input": "2022-06-06T11:22:11.682246Z",
     "iopub.status.busy": "2022-06-06T11:22:11.681351Z",
     "iopub.status.idle": "2022-06-06T11:22:11.685497Z",
     "shell.execute_reply": "2022-06-06T11:22:11.684898Z",
     "shell.execute_reply.started": "2022-06-06T10:46:32.135442Z"
    },
    "papermill": {
     "duration": 0.025718,
     "end_time": "2022-06-06T11:22:11.685637",
     "exception": false,
     "start_time": "2022-06-06T11:22:11.659919",
     "status": "completed"
    },
    "tags": []
   },
   "outputs": [],
   "source": [
    "class_names = training_data.class_names\n",
    "class_names"
   ]
  },
  {
   "cell_type": "code",
   "execution_count": null,
   "id": "5176cc78",
   "metadata": {
    "execution": {
     "iopub.execute_input": "2022-06-06T11:22:11.724575Z",
     "iopub.status.busy": "2022-06-06T11:22:11.723900Z",
     "iopub.status.idle": "2022-06-06T11:22:11.729144Z",
     "shell.execute_reply": "2022-06-06T11:22:11.729655Z",
     "shell.execute_reply.started": "2022-06-06T10:46:32.148210Z"
    },
    "papermill": {
     "duration": 0.027549,
     "end_time": "2022-06-06T11:22:11.729835",
     "exception": false,
     "start_time": "2022-06-06T11:22:11.702286",
     "status": "completed"
    },
    "tags": []
   },
   "outputs": [],
   "source": [
    "## Configuring dataset for performance\n",
    "AUTOTUNE = tf.data.experimental.AUTOTUNE\n",
    "training_data = training_data.cache().prefetch(buffer_size=AUTOTUNE)\n",
    "testing_data = testing_data.cache().prefetch(buffer_size=AUTOTUNE)"
   ]
  },
  {
   "cell_type": "code",
   "execution_count": null,
   "id": "82bc89e3",
   "metadata": {
    "execution": {
     "iopub.execute_input": "2022-06-06T11:22:11.768660Z",
     "iopub.status.busy": "2022-06-06T11:22:11.767963Z",
     "iopub.status.idle": "2022-06-06T11:22:11.826933Z",
     "shell.execute_reply": "2022-06-06T11:22:11.826211Z",
     "shell.execute_reply.started": "2022-06-06T10:46:32.163777Z"
    },
    "papermill": {
     "duration": 0.079717,
     "end_time": "2022-06-06T11:22:11.827076",
     "exception": false,
     "start_time": "2022-06-06T11:22:11.747359",
     "status": "completed"
    },
    "tags": []
   },
   "outputs": [],
   "source": [
    "## Defining Cnn\n",
    "model = tf.keras.models.Sequential([\n",
    "  layers.BatchNormalization(),\n",
    "  layers.Conv2D(32, 3, activation='relu'), # Conv2D(f_size, filter_size, activation) # relu, sigmoid, softmax\n",
    "  layers.MaxPooling2D(), # MaxPooling\n",
    "  layers.Conv2D(64, 3, activation='relu'),\n",
    "  layers.MaxPooling2D(),\n",
    "  layers.Conv2D(128, 3, activation='relu'),\n",
    "  layers.MaxPooling2D(),\n",
    "  layers.Conv2D(256, 3, activation='relu'),\n",
    "  layers.MaxPooling2D(),\n",
    "  layers.Flatten(),\n",
    "  layers.Dense(512, activation='relu'),\n",
    "  layers.Dense(len(class_names), activation= 'softmax')\n",
    "])\n",
    "\n",
    "model.compile(optimizer='adam',loss='sparse_categorical_crossentropy', metrics=['accuracy'])"
   ]
  },
  {
   "cell_type": "code",
   "execution_count": null,
   "id": "3c69caf5",
   "metadata": {
    "execution": {
     "iopub.execute_input": "2022-06-06T11:22:11.866838Z",
     "iopub.status.busy": "2022-06-06T11:22:11.866008Z",
     "iopub.status.idle": "2022-06-06T11:22:12.150115Z",
     "shell.execute_reply": "2022-06-06T11:22:12.149113Z",
     "shell.execute_reply.started": "2022-06-06T10:46:33.004393Z"
    },
    "papermill": {
     "duration": 0.306291,
     "end_time": "2022-06-06T11:22:12.150305",
     "exception": false,
     "start_time": "2022-06-06T11:22:11.844014",
     "status": "completed"
    },
    "tags": []
   },
   "outputs": [],
   "source": [
    "model.build((None, 250, 250, 3))\n",
    "model.summary()"
   ]
  },
  {
   "cell_type": "code",
   "execution_count": null,
   "id": "c18e9b4f",
   "metadata": {
    "execution": {
     "iopub.execute_input": "2022-06-06T11:22:12.190572Z",
     "iopub.status.busy": "2022-06-06T11:22:12.189914Z",
     "iopub.status.idle": "2022-06-06T11:22:13.448607Z",
     "shell.execute_reply": "2022-06-06T11:22:13.449131Z",
     "shell.execute_reply.started": "2022-06-06T10:46:33.449004Z"
    },
    "papermill": {
     "duration": 1.281486,
     "end_time": "2022-06-06T11:22:13.449301",
     "exception": false,
     "start_time": "2022-06-06T11:22:12.167815",
     "status": "completed"
    },
    "tags": []
   },
   "outputs": [],
   "source": [
    "plot_model(model, show_shapes=True)"
   ]
  },
  {
   "cell_type": "code",
   "execution_count": null,
   "id": "0192e7be",
   "metadata": {
    "execution": {
     "iopub.execute_input": "2022-06-06T11:22:13.493997Z",
     "iopub.status.busy": "2022-06-06T11:22:13.493302Z",
     "iopub.status.idle": "2022-06-06T11:45:04.193237Z",
     "shell.execute_reply": "2022-06-06T11:45:04.194020Z",
     "shell.execute_reply.started": "2022-06-06T10:46:34.771213Z"
    },
    "papermill": {
     "duration": 1370.724139,
     "end_time": "2022-06-06T11:45:04.194454",
     "exception": false,
     "start_time": "2022-06-06T11:22:13.470315",
     "status": "completed"
    },
    "tags": []
   },
   "outputs": [],
   "source": [
    "## lets train our CNN\n",
    "checkpoint = ModelCheckpoint(\"model_weights.h5.keras\", monitor='val_accuracy', verbose=1, save_best_only=True, mode='max')\n",
    "callbacks_list = [checkpoint]\n",
    "history = model.fit(training_data, validation_data=validation_data, epochs = 20, callbacks=callbacks_list)"
   ]
  },
  {
   "cell_type": "code",
   "execution_count": null,
   "id": "1d0e4f18",
   "metadata": {
    "execution": {
     "iopub.execute_input": "2022-06-06T11:45:04.374139Z",
     "iopub.status.busy": "2022-06-06T11:45:04.373501Z",
     "iopub.status.idle": "2022-06-06T11:45:04.381286Z",
     "shell.execute_reply": "2022-06-06T11:45:04.381827Z",
     "shell.execute_reply.started": "2022-06-06T11:11:37.400737Z"
    },
    "papermill": {
     "duration": 0.09748,
     "end_time": "2022-06-06T11:45:04.382001",
     "exception": false,
     "start_time": "2022-06-06T11:45:04.284521",
     "status": "completed"
    },
    "tags": []
   },
   "outputs": [],
   "source": [
    "###### serialize model structure to JSON\n",
    "model_json = model.to_json()\n",
    "with open(\"model.json\", \"w\") as json_file:\n",
    "    json_file.write(model_json)"
   ]
  },
  {
   "cell_type": "code",
   "execution_count": null,
   "id": "4f688b53",
   "metadata": {
    "execution": {
     "iopub.execute_input": "2022-06-06T11:45:04.565527Z",
     "iopub.status.busy": "2022-06-06T11:45:04.564796Z",
     "iopub.status.idle": "2022-06-06T11:45:04.856344Z",
     "shell.execute_reply": "2022-06-06T11:45:04.855786Z",
     "shell.execute_reply.started": "2022-06-06T11:11:37.410351Z"
    },
    "papermill": {
     "duration": 0.389861,
     "end_time": "2022-06-06T11:45:04.856513",
     "exception": false,
     "start_time": "2022-06-06T11:45:04.466652",
     "status": "completed"
    },
    "tags": []
   },
   "outputs": [],
   "source": [
    "## stats on training data\n",
    "plt.plot(history.history['loss'], label = 'training loss')\n",
    "plt.plot(history.history['accuracy'], label = 'training accuracy')\n",
    "plt.grid(True)\n",
    "plt.legend()"
   ]
  },
  {
   "cell_type": "code",
   "execution_count": null,
   "id": "aeb2c132",
   "metadata": {
    "execution": {
     "iopub.execute_input": "2022-06-06T11:45:05.034670Z",
     "iopub.status.busy": "2022-06-06T11:45:05.033702Z",
     "iopub.status.idle": "2022-06-06T11:45:05.272214Z",
     "shell.execute_reply": "2022-06-06T11:45:05.271694Z",
     "shell.execute_reply.started": "2022-06-06T11:11:37.692730Z"
    },
    "papermill": {
     "duration": 0.329018,
     "end_time": "2022-06-06T11:45:05.272358",
     "exception": false,
     "start_time": "2022-06-06T11:45:04.943340",
     "status": "completed"
    },
    "tags": []
   },
   "outputs": [],
   "source": [
    "## stats on training data\n",
    "plt.plot(history.history['val_loss'], label = 'validation loss')\n",
    "plt.plot(history.history['val_accuracy'], label = 'validation accuracy')\n",
    "plt.grid(True)\n",
    "plt.legend()"
   ]
  },
  {
   "cell_type": "code",
   "execution_count": null,
   "id": "5c1b2041",
   "metadata": {
    "execution": {
     "iopub.execute_input": "2022-06-06T11:45:05.457449Z",
     "iopub.status.busy": "2022-06-06T11:45:05.456580Z",
     "iopub.status.idle": "2022-06-06T11:45:12.629447Z",
     "shell.execute_reply": "2022-06-06T11:45:12.628843Z",
     "shell.execute_reply.started": "2022-06-06T11:11:37.935322Z"
    },
    "papermill": {
     "duration": 7.269324,
     "end_time": "2022-06-06T11:45:12.629596",
     "exception": false,
     "start_time": "2022-06-06T11:45:05.360272",
     "status": "completed"
    },
    "tags": []
   },
   "outputs": [],
   "source": [
    "## lets vizualize results on testing data\n",
    "AccuracyVector = []\n",
    "plt.figure(figsize=(30, 30))\n",
    "for images, labels in testing_data.take(1):\n",
    "    predictions = model.predict(images)\n",
    "    predlabel = []\n",
    "    prdlbl = []\n",
    "    \n",
    "    for mem in predictions:\n",
    "        predlabel.append(class_names[np.argmax(mem)])\n",
    "        prdlbl.append(np.argmax(mem))\n",
    "    \n",
    "    AccuracyVector = np.array(prdlbl) == labels\n",
    "    for i in range(40):\n",
    "        ax = plt.subplot(10, 4, i + 1)\n",
    "        plt.imshow(images[i].numpy().astype(\"uint8\"))\n",
    "        plt.title('Pred: '+ predlabel[i]+' actl:'+class_names[labels[i]] )\n",
    "        plt.axis('off')\n",
    "        plt.grid(True)"
   ]
  },
  {
   "cell_type": "code",
   "execution_count": null,
   "id": "8663a254",
   "metadata": {
    "papermill": {
     "duration": 0.148052,
     "end_time": "2022-06-06T11:45:12.933355",
     "exception": false,
     "start_time": "2022-06-06T11:45:12.785303",
     "status": "completed"
    },
    "tags": []
   },
   "outputs": [],
   "source": []
  }
 ],
 "metadata": {
  "kernelspec": {
   "display_name": "venv",
   "language": "python",
   "name": "python3"
  },
  "language_info": {
   "codemirror_mode": {
    "name": "ipython",
    "version": 3
   },
   "file_extension": ".py",
   "mimetype": "text/x-python",
   "name": "python",
   "nbconvert_exporter": "python",
   "pygments_lexer": "ipython3",
   "version": "3.12.4"
  },
  "papermill": {
   "default_parameters": {},
   "duration": 1402.432589,
   "end_time": "2022-06-06T11:45:16.380977",
   "environment_variables": {},
   "exception": null,
   "input_path": "__notebook__.ipynb",
   "output_path": "__notebook__.ipynb",
   "parameters": {},
   "start_time": "2022-06-06T11:21:53.948388",
   "version": "2.3.3"
  }
 },
 "nbformat": 4,
 "nbformat_minor": 5
}
